{
 "cells": [
  {
   "cell_type": "code",
   "execution_count": 23,
   "id": "fbc6a687-6a23-4dae-9939-e4ee3bb0300a",
   "metadata": {},
   "outputs": [
    {
     "name": "stdin",
     "output_type": "stream",
     "text": [
      "enter a value: 10\n",
      "enter b value: 0\n"
     ]
    },
    {
     "name": "stdout",
     "output_type": "stream",
     "text": [
      "a value: 10\n",
      "b value: 0\n",
      "additon value: 10\n",
      "subtraction value: 10\n",
      "multiplication value: 0\n",
      "dont enter the 0 value\n",
      "keep coding\n"
     ]
    }
   ],
   "source": [
    "try:\n",
    "    a=int(input(\"enter a value:\"))\n",
    "    b=int(input(\"enter b value:\"))\n",
    "    print(\"a value:\",a)\n",
    "    print(\"b value:\",b)\n",
    "    print(\"additon value:\",a+b)\n",
    "    print(\"subtraction value:\",a-b)\n",
    "    print(\"multiplication value:\",a*b)\n",
    "    print(\"divition value:\",a/b)\n",
    "    print(\"power value:\",a**b)\n",
    "    print(\"Floor Division\n",
    "except ValueError:\n",
    "    print(\"dont enter the string or float values\")\n",
    "except ZeroDivisionError:\n",
    "    print(\"dont enter the 0 value\")\n",
    "finally:\n",
    "    print(\"keep coding\")"
   ]
  },
  {
   "cell_type": "code",
   "execution_count": null,
   "id": "b5a13328-cb5a-405c-9936-58db80d1aaa0",
   "metadata": {},
   "outputs": [],
   "source": []
  }
 ],
 "metadata": {
  "kernelspec": {
   "display_name": "Python 3 (ipykernel)",
   "language": "python",
   "name": "python3"
  },
  "language_info": {
   "codemirror_mode": {
    "name": "ipython",
    "version": 3
   },
   "file_extension": ".py",
   "mimetype": "text/x-python",
   "name": "python",
   "nbconvert_exporter": "python",
   "pygments_lexer": "ipython3",
   "version": "3.12.4"
  }
 },
 "nbformat": 4,
 "nbformat_minor": 5
}
