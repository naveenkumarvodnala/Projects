{
 "cells": [
  {
   "cell_type": "code",
   "execution_count": 2,
   "id": "d64c1113-1c59-42b8-85cf-85f382a2b870",
   "metadata": {},
   "outputs": [
    {
     "name": "stdin",
     "output_type": "stream",
     "text": [
      "\n",
      "Choose an action: [add, search, update, filter, display, exit]:  add\n",
      "Enter the contact's name:  naveen\n",
      "Enter the contact's phone number:  9133933790\n",
      "Enter the contact's email address:  naveeenkumar@gmail.com\n"
     ]
    },
    {
     "name": "stdout",
     "output_type": "stream",
     "text": [
      "Contact 'naveen' added successfully.\n"
     ]
    },
    {
     "name": "stdin",
     "output_type": "stream",
     "text": [
      "\n",
      "Choose an action: [add, search, update, filter, display, exit]:  exit\n"
     ]
    },
    {
     "name": "stdout",
     "output_type": "stream",
     "text": [
      "Exiting the contact manager.\n"
     ]
    }
   ],
   "source": [
    "def display_contacts(contacts):\n",
    "    print(\"\\n--- Contact List ---\")\n",
    "    for name, details in contacts.items():\n",
    "        print(f\"Name: {name}, Phone: {details['phone']}, Email: {details['email']}\")\n",
    "\n",
    "def add_contact(contacts):\n",
    "    name = input(\"Enter the contact's name: \")\n",
    "    phone = input(\"Enter the contact's phone number: \")\n",
    "    email = input(\"Enter the contact's email address: \")\n",
    "    \n",
    "    contacts[name] = {\"phone\": phone, \"email\": email}\n",
    "    print(f\"Contact '{name}' added successfully.\")\n",
    "\n",
    "def search_contact(contacts):\n",
    "    name = input(\"Enter the name of the contact to search: \")\n",
    "    details = contacts.get(name)\n",
    "    if details:\n",
    "        print(f\"Contact found: Name: {name}, Phone: {details['phone']}, Email: {details['email']}\")\n",
    "    else:\n",
    "        print(f\"Contact '{name}' not found.\")\n",
    "\n",
    "def update_contact(contacts):\n",
    "    name = input(\"Enter the name of the contact to update: \")\n",
    "    if name in contacts:\n",
    "        phone = input(\"Enter the new phone number: \")\n",
    "        email = input(\"Enter the new email address: \")\n",
    "        contacts[name] = {\"phone\": phone, \"email\": email}\n",
    "        print(f\"Contact '{name}' updated successfully.\")\n",
    "    else:\n",
    "        print(f\"Contact '{name}' not found.\")\n",
    "\n",
    "def filter_contacts(contacts):\n",
    "    gmail_contacts = {name: details for name, details in contacts.items() if 'gmail.com' in details['email']}\n",
    "    print(\"\\n--- Gmail Contacts ---\")\n",
    "    if gmail_contacts:\n",
    "        display_contacts(gmail_contacts)\n",
    "    else:\n",
    "        print(\"No contacts with a Gmail address found.\")\n",
    "\n",
    "def main():\n",
    "    contacts = {}\n",
    "    \n",
    "    while True:\n",
    "        action = input(\"\\nChoose an action: [add, search, update, filter, display, exit]: \").strip().lower()\n",
    "        \n",
    "        if action == \"add\":\n",
    "            add_contact(contacts)\n",
    "        \n",
    "        elif action == \"search\":\n",
    "            search_contact(contacts)\n",
    "        \n",
    "        elif action == \"update\":\n",
    "            update_contact(contacts)\n",
    "        \n",
    "        elif action == \"filter\":\n",
    "            filter_contacts(contacts)\n",
    "        \n",
    "        elif action == \"display\":\n",
    "            display_contacts(contacts)\n",
    "        \n",
    "        elif action == \"exit\":\n",
    "            print(\"Exiting the contact manager.\")\n",
    "            break\n",
    "        \n",
    "        else:\n",
    "            print(\"Invalid action. Please try again.\")\n",
    "\n",
    "# Start the program\n",
    "main()\n"
   ]
  },
  {
   "cell_type": "code",
   "execution_count": null,
   "id": "83c30297-5132-4fd2-b281-9dd46d853eea",
   "metadata": {},
   "outputs": [],
   "source": []
  }
 ],
 "metadata": {
  "kernelspec": {
   "display_name": "Python 3 (ipykernel)",
   "language": "python",
   "name": "python3"
  },
  "language_info": {
   "codemirror_mode": {
    "name": "ipython",
    "version": 3
   },
   "file_extension": ".py",
   "mimetype": "text/x-python",
   "name": "python",
   "nbconvert_exporter": "python",
   "pygments_lexer": "ipython3",
   "version": "3.12.4"
  }
 },
 "nbformat": 4,
 "nbformat_minor": 5
}
